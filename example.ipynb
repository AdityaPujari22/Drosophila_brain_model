{
 "cells": [
  {
   "cell_type": "code",
   "execution_count": null,
   "metadata": {},
   "outputs": [],
   "source": [
    "# ATTENTION: only run this cell when on google colab\n",
    "!git clone https://github.com/philshiu/Drosophila_brain_model.git\n",
    "!pip install brian2\n",
    "cd Drosophila_brain_model\n"
   ]
  },
  {
   "cell_type": "code",
   "execution_count": 1,
   "metadata": {},
   "outputs": [
    {
     "name": "stderr",
     "output_type": "stream",
     "text": [
      "INFO       Cache size for target 'cython': 90275854361 MB.\n",
      "You can call clear_cache('cython') to delete all files from the cache or manually delete files in the 'C:\\Users\\spillern\\.cython\\brian_extensions' directory. [brian2]\n"
     ]
    }
   ],
   "source": [
    "from model import run_exp\n",
    "from model import default_params as params\n",
    "import utils as utl\n",
    "from brian2 import Hz\n",
    "\n",
    "config = {\n",
    "    'path_res'  : './results/example',                              # directory to store results\n",
    "    'path_comp' : './2023_03_23_completeness_630_final.csv',        # csv of the complete list of Flywire neurons\n",
    "    'path_con'  : './2023_03_23_connectivity_630_final.parquet',    # connectivity data\n",
    "    'n_proc'    : -1,                                               # number of CPU cores (-1: use all)\n",
    "}"
   ]
  },
  {
   "attachments": {},
   "cell_type": "markdown",
   "metadata": {},
   "source": [
    "# Introduction\n",
    "## Underlying connectivity data\n",
    "The connectivity of the fly brain is stored in the folowing files:\n",
    "- neurons present: `config['path_comp']`\n",
    "- connectivity between neurons: `config['path_con]`\n",
    "\n",
    "## Model parameters\n",
    "The equation and constants for the leaky integrate and fire model are defined \n",
    "in the dictionary `default_params` in the beginning of the file `model.py`:\n",
    "\n",
    "```\n",
    "default_params = {\n",
    "    # trials\n",
    "    't_run'     : 1000 * ms,              # duration of trial\n",
    "    'n_run'     : 30,                     # number of runs\n",
    "\n",
    "    'v_0'       : -52 * mV,               # resting potential\n",
    "    'v_rst'     : -52 * mV,               # reset potential after spike\n",
    "    [...]\n",
    "```\n",
    "We can also change values\n",
    "and pass the modified dictionary to the model (see Experiment 1).\n",
    "\n",
    "## Addressing neurons\n",
    "Here, we want to stimulate some sugar-sensing neurons in the right hemisphere.\n",
    "The neurons of interest are defined via their flywire IDs:"
   ]
  },
  {
   "cell_type": "code",
   "execution_count": 2,
   "metadata": {},
   "outputs": [],
   "source": [
    "neu_sugar = [\n",
    "    720575940624963786,\n",
    "    720575940630233916,\n",
    "    720575940637568838,\n",
    "    720575940638202345,\n",
    "    720575940617000768,\n",
    "    720575940630797113,\n",
    "    720575940632889389,\n",
    "    720575940621754367,\n",
    "    720575940621502051,\n",
    "    720575940640649691,\n",
    "    720575940639332736,\n",
    "    720575940616885538,\n",
    "    720575940639198653,\n",
    "    720575940620900446,\n",
    "    720575940617937543,\n",
    "    720575940632425919,\n",
    "    720575940633143833,\n",
    "    720575940612670570,\n",
    "    720575940628853239,\n",
    "    720575940629176663,\n",
    "    720575940611875570,\n",
    "]"
   ]
  },
  {
   "attachments": {},
   "cell_type": "markdown",
   "metadata": {},
   "source": [
    "For an easier identification, we define also a mapping from the flywire IDs to custom \n",
    "names. The above neurons are calles `sugar_1`, `sugar_2` etc:"
   ]
  },
  {
   "cell_type": "code",
   "execution_count": 3,
   "metadata": {},
   "outputs": [
    {
     "data": {
      "text/plain": [
       "{720575940624963786: 'sugar_1',\n",
       " 720575940630233916: 'sugar_2',\n",
       " 720575940637568838: 'sugar_3',\n",
       " 720575940638202345: 'sugar_4',\n",
       " 720575940617000768: 'sugar_5',\n",
       " 720575940630797113: 'sugar_6',\n",
       " 720575940632889389: 'sugar_7',\n",
       " 720575940621754367: 'sugar_8',\n",
       " 720575940621502051: 'sugar_9',\n",
       " 720575940640649691: 'sugar_10',\n",
       " 720575940639332736: 'sugar_11',\n",
       " 720575940616885538: 'sugar_12',\n",
       " 720575940639198653: 'sugar_13',\n",
       " 720575940620900446: 'sugar_14',\n",
       " 720575940617937543: 'sugar_15',\n",
       " 720575940632425919: 'sugar_16',\n",
       " 720575940633143833: 'sugar_17',\n",
       " 720575940612670570: 'sugar_18',\n",
       " 720575940628853239: 'sugar_19',\n",
       " 720575940629176663: 'sugar_20',\n",
       " 720575940611875570: 'sugar_21'}"
      ]
     },
     "execution_count": 3,
     "metadata": {},
     "output_type": "execute_result"
    }
   ],
   "source": [
    "flyid2name = { f: 'sugar_{}'.format(i+1) for i, f in enumerate(neu_sugar) }\n",
    "flyid2name"
   ]
  },
  {
   "attachments": {},
   "cell_type": "markdown",
   "metadata": {},
   "source": [
    "# Running simulations\n",
    "## Activating a set of neurons\n",
    "To run a simulation exciting these nerons we have to call `run_exp` supplying the following:\n",
    "- unique name for the simulation: `exp_name`\n",
    "- a list of neurons we want to stimulate: `neu_sugar`\n",
    "- the connectivity data: `config['path_comp']` and `config['path_con]`\n",
    "- path to store the output: `config['path_res']`\n",
    "- number of CPU cores use: `config['n_procs]`\n",
    "\n",
    "Note that running this on Google Colab can take roughly 20 minutes; it is substantially faster on a local install, depending on the number of CPU cores. By default, the neurons are excited at 200 Hz."
   ]
  },
  {
   "cell_type": "code",
   "execution_count": 4,
   "metadata": {},
   "outputs": [
    {
     "name": "stdout",
     "output_type": "stream",
     "text": [
      ">>> Skipping experiment sugarR because results\\example\\sugarR.parquet exists and force_overwrite = False\n"
     ]
    }
   ],
   "source": [
    "# activate sugar sensing neurons\n",
    "run_exp(exp_name='sugarR', neu_exc=neu_sugar, **config)"
   ]
  },
  {
   "attachments": {},
   "cell_type": "markdown",
   "metadata": {},
   "source": [
    "The `.parquet` file created during a simulation contains all spikes events of all neurons in the model.\n",
    "We load the data again from disk by passing a list of result files to the `utl.load_exps` function.\n",
    "\n",
    "We can see from the size of the dataframe\n",
    "that more than 400 000 spikes were generated by activating the sugar neurons (30 trials, 1 s each)."
   ]
  },
  {
   "cell_type": "code",
   "execution_count": 5,
   "metadata": {},
   "outputs": [
    {
     "data": {
      "text/html": [
       "<div>\n",
       "<style scoped>\n",
       "    .dataframe tbody tr th:only-of-type {\n",
       "        vertical-align: middle;\n",
       "    }\n",
       "\n",
       "    .dataframe tbody tr th {\n",
       "        vertical-align: top;\n",
       "    }\n",
       "\n",
       "    .dataframe thead th {\n",
       "        text-align: right;\n",
       "    }\n",
       "</style>\n",
       "<table border=\"1\" class=\"dataframe\">\n",
       "  <thead>\n",
       "    <tr style=\"text-align: right;\">\n",
       "      <th></th>\n",
       "      <th>t</th>\n",
       "      <th>trial</th>\n",
       "      <th>flywire_id</th>\n",
       "      <th>exp_name</th>\n",
       "    </tr>\n",
       "  </thead>\n",
       "  <tbody>\n",
       "    <tr>\n",
       "      <th>0</th>\n",
       "      <td>0.2562</td>\n",
       "      <td>0</td>\n",
       "      <td>720575940605513649</td>\n",
       "      <td>sugarR</td>\n",
       "    </tr>\n",
       "    <tr>\n",
       "      <th>1</th>\n",
       "      <td>0.3607</td>\n",
       "      <td>0</td>\n",
       "      <td>720575940605513649</td>\n",
       "      <td>sugarR</td>\n",
       "    </tr>\n",
       "    <tr>\n",
       "      <th>2</th>\n",
       "      <td>0.6044</td>\n",
       "      <td>0</td>\n",
       "      <td>720575940605513649</td>\n",
       "      <td>sugarR</td>\n",
       "    </tr>\n",
       "    <tr>\n",
       "      <th>3</th>\n",
       "      <td>0.7128</td>\n",
       "      <td>0</td>\n",
       "      <td>720575940605513649</td>\n",
       "      <td>sugarR</td>\n",
       "    </tr>\n",
       "    <tr>\n",
       "      <th>4</th>\n",
       "      <td>0.8627</td>\n",
       "      <td>0</td>\n",
       "      <td>720575940605513649</td>\n",
       "      <td>sugarR</td>\n",
       "    </tr>\n",
       "    <tr>\n",
       "      <th>...</th>\n",
       "      <td>...</td>\n",
       "      <td>...</td>\n",
       "      <td>...</td>\n",
       "      <td>...</td>\n",
       "    </tr>\n",
       "    <tr>\n",
       "      <th>511561</th>\n",
       "      <td>0.9133</td>\n",
       "      <td>29</td>\n",
       "      <td>720575940660229505</td>\n",
       "      <td>sugarR</td>\n",
       "    </tr>\n",
       "    <tr>\n",
       "      <th>511562</th>\n",
       "      <td>0.9245</td>\n",
       "      <td>29</td>\n",
       "      <td>720575940660229505</td>\n",
       "      <td>sugarR</td>\n",
       "    </tr>\n",
       "    <tr>\n",
       "      <th>511563</th>\n",
       "      <td>0.9437</td>\n",
       "      <td>29</td>\n",
       "      <td>720575940660229505</td>\n",
       "      <td>sugarR</td>\n",
       "    </tr>\n",
       "    <tr>\n",
       "      <th>511564</th>\n",
       "      <td>0.9687</td>\n",
       "      <td>29</td>\n",
       "      <td>720575940660229505</td>\n",
       "      <td>sugarR</td>\n",
       "    </tr>\n",
       "    <tr>\n",
       "      <th>511565</th>\n",
       "      <td>0.9879</td>\n",
       "      <td>29</td>\n",
       "      <td>720575940660229505</td>\n",
       "      <td>sugarR</td>\n",
       "    </tr>\n",
       "  </tbody>\n",
       "</table>\n",
       "<p>511566 rows × 4 columns</p>\n",
       "</div>"
      ],
      "text/plain": [
       "             t  trial          flywire_id exp_name\n",
       "0       0.2562      0  720575940605513649   sugarR\n",
       "1       0.3607      0  720575940605513649   sugarR\n",
       "2       0.6044      0  720575940605513649   sugarR\n",
       "3       0.7128      0  720575940605513649   sugarR\n",
       "4       0.8627      0  720575940605513649   sugarR\n",
       "...        ...    ...                 ...      ...\n",
       "511561  0.9133     29  720575940660229505   sugarR\n",
       "511562  0.9245     29  720575940660229505   sugarR\n",
       "511563  0.9437     29  720575940660229505   sugarR\n",
       "511564  0.9687     29  720575940660229505   sugarR\n",
       "511565  0.9879     29  720575940660229505   sugarR\n",
       "\n",
       "[511566 rows x 4 columns]"
      ]
     },
     "execution_count": 5,
     "metadata": {},
     "output_type": "execute_result"
    }
   ],
   "source": [
    "# load data from disk\n",
    "df_spike = utl.load_exps([ './results/example/sugarR.parquet' ])\n",
    "df_spike"
   ]
  },
  {
   "attachments": {},
   "cell_type": "markdown",
   "metadata": {},
   "source": [
    "The spike times can be converted to spike rates [Hz] via `utl.get_rate`, which requires the duration of each trial.\n",
    "`utl.get_rate` returns `pandas.DataFrame` objects:\n",
    "1. spike rate for each neuron (rows) in each experiment (column): `df_rate`\n",
    "2. standard deviation of rate across trials: `df_rate_std`\n",
    "\n",
    "For convenience, we can optionally pass the `flyid2name` dictionary to `utl.get_rate` in order to convert flywire IDs into\n",
    "meaningful names.\n",
    "\n",
    "We can see that only about 400 neurons show activity during the simulations."
   ]
  },
  {
   "cell_type": "code",
   "execution_count": 6,
   "metadata": {},
   "outputs": [
    {
     "data": {
      "text/html": [
       "<div>\n",
       "<style scoped>\n",
       "    .dataframe tbody tr th:only-of-type {\n",
       "        vertical-align: middle;\n",
       "    }\n",
       "\n",
       "    .dataframe tbody tr th {\n",
       "        vertical-align: top;\n",
       "    }\n",
       "\n",
       "    .dataframe thead th {\n",
       "        text-align: right;\n",
       "    }\n",
       "</style>\n",
       "<table border=\"1\" class=\"dataframe\">\n",
       "  <thead>\n",
       "    <tr style=\"text-align: right;\">\n",
       "      <th>exp_name</th>\n",
       "      <th>name</th>\n",
       "      <th>sugarR</th>\n",
       "    </tr>\n",
       "    <tr>\n",
       "      <th>flyid</th>\n",
       "      <th></th>\n",
       "      <th></th>\n",
       "    </tr>\n",
       "  </thead>\n",
       "  <tbody>\n",
       "    <tr>\n",
       "      <th>720575940637568838</th>\n",
       "      <td>sugar_3</td>\n",
       "      <td>202.066667</td>\n",
       "    </tr>\n",
       "    <tr>\n",
       "      <th>720575940621502051</th>\n",
       "      <td>sugar_9</td>\n",
       "      <td>200.200000</td>\n",
       "    </tr>\n",
       "    <tr>\n",
       "      <th>720575940639198653</th>\n",
       "      <td>sugar_13</td>\n",
       "      <td>199.966667</td>\n",
       "    </tr>\n",
       "    <tr>\n",
       "      <th>720575940617937543</th>\n",
       "      <td>sugar_15</td>\n",
       "      <td>199.400000</td>\n",
       "    </tr>\n",
       "    <tr>\n",
       "      <th>720575940633143833</th>\n",
       "      <td>sugar_17</td>\n",
       "      <td>199.033333</td>\n",
       "    </tr>\n",
       "    <tr>\n",
       "      <th>...</th>\n",
       "      <td>...</td>\n",
       "      <td>...</td>\n",
       "    </tr>\n",
       "    <tr>\n",
       "      <th>720575940626919144</th>\n",
       "      <td></td>\n",
       "      <td>0.033333</td>\n",
       "    </tr>\n",
       "    <tr>\n",
       "      <th>720575940614465478</th>\n",
       "      <td></td>\n",
       "      <td>0.033333</td>\n",
       "    </tr>\n",
       "    <tr>\n",
       "      <th>720575940612866410</th>\n",
       "      <td></td>\n",
       "      <td>0.033333</td>\n",
       "    </tr>\n",
       "    <tr>\n",
       "      <th>720575940623614442</th>\n",
       "      <td></td>\n",
       "      <td>0.033333</td>\n",
       "    </tr>\n",
       "    <tr>\n",
       "      <th>720575940634782359</th>\n",
       "      <td></td>\n",
       "      <td>0.033333</td>\n",
       "    </tr>\n",
       "  </tbody>\n",
       "</table>\n",
       "<p>448 rows × 2 columns</p>\n",
       "</div>"
      ],
      "text/plain": [
       "exp_name                name      sugarR\n",
       "flyid                                   \n",
       "720575940637568838   sugar_3  202.066667\n",
       "720575940621502051   sugar_9  200.200000\n",
       "720575940639198653  sugar_13  199.966667\n",
       "720575940617937543  sugar_15  199.400000\n",
       "720575940633143833  sugar_17  199.033333\n",
       "...                      ...         ...\n",
       "720575940626919144              0.033333\n",
       "720575940614465478              0.033333\n",
       "720575940612866410              0.033333\n",
       "720575940623614442              0.033333\n",
       "720575940634782359              0.033333\n",
       "\n",
       "[448 rows x 2 columns]"
      ]
     },
     "execution_count": 6,
     "metadata": {},
     "output_type": "execute_result"
    }
   ],
   "source": [
    "# calculate spike rate and standard deviation\n",
    "df_rate, df_rate_std = utl.get_rate(df_spike, t_run=params['t_run'], n_run=params['n_run'], flyid2name=flyid2name)\n",
    "# sort by spike rate\n",
    "df_rate.sort_values('sugarR', ascending=False)"
   ]
  },
  {
   "cell_type": "markdown",
   "metadata": {},
   "source": [
    "## Change stimulation frequency\n",
    "\n",
    "We want to change the frequency of the stimulation of the sugar neurons.\n",
    "To do so we modify the value for `r_poi` in the `default_params` dictionary and pass the altered dictionary to the `run_exp` function.\n",
    "\n",
    "Note: Since physical quantities in `brian2` have to have the correct unit, we also need the `brian2.Hz` object \n",
    "to define a frequency."
   ]
  },
  {
   "cell_type": "code",
   "execution_count": 7,
   "metadata": {},
   "outputs": [
    {
     "name": "stdout",
     "output_type": "stream",
     "text": [
      ">>> Skipping experiment sugarR_100Hz because results\\example\\sugarR_100Hz.parquet exists and force_overwrite = False\n"
     ]
    }
   ],
   "source": [
    "# run with different frequency\n",
    "params['r_poi'] = 100 * Hz\n",
    "\n",
    "run_exp(exp_name='sugarR_100Hz', neu_exc=neu_sugar, params=params, **config)"
   ]
  },
  {
   "attachments": {},
   "cell_type": "markdown",
   "metadata": {},
   "source": [
    "We load the results via the `utl.load_exps` function and convert the spike events to rates with `utl.get_rate`"
   ]
  },
  {
   "cell_type": "code",
   "execution_count": 8,
   "metadata": {},
   "outputs": [
    {
     "data": {
      "text/html": [
       "<div>\n",
       "<style scoped>\n",
       "    .dataframe tbody tr th:only-of-type {\n",
       "        vertical-align: middle;\n",
       "    }\n",
       "\n",
       "    .dataframe tbody tr th {\n",
       "        vertical-align: top;\n",
       "    }\n",
       "\n",
       "    .dataframe thead th {\n",
       "        text-align: right;\n",
       "    }\n",
       "</style>\n",
       "<table border=\"1\" class=\"dataframe\">\n",
       "  <thead>\n",
       "    <tr style=\"text-align: right;\">\n",
       "      <th>exp_name</th>\n",
       "      <th>name</th>\n",
       "      <th>sugarR</th>\n",
       "      <th>sugarR_100Hz</th>\n",
       "    </tr>\n",
       "    <tr>\n",
       "      <th>flyid</th>\n",
       "      <th></th>\n",
       "      <th></th>\n",
       "      <th></th>\n",
       "    </tr>\n",
       "  </thead>\n",
       "  <tbody>\n",
       "    <tr>\n",
       "      <th>720575940622695448</th>\n",
       "      <td></td>\n",
       "      <td>156.766667</td>\n",
       "      <td>114.266667</td>\n",
       "    </tr>\n",
       "    <tr>\n",
       "      <th>720575940621754367</th>\n",
       "      <td>sugar_8</td>\n",
       "      <td>194.100000</td>\n",
       "      <td>102.566667</td>\n",
       "    </tr>\n",
       "    <tr>\n",
       "      <th>720575940617937543</th>\n",
       "      <td>sugar_15</td>\n",
       "      <td>199.400000</td>\n",
       "      <td>101.733333</td>\n",
       "    </tr>\n",
       "    <tr>\n",
       "      <th>720575940629888530</th>\n",
       "      <td></td>\n",
       "      <td>146.500000</td>\n",
       "      <td>101.700000</td>\n",
       "    </tr>\n",
       "    <tr>\n",
       "      <th>720575940629176663</th>\n",
       "      <td>sugar_20</td>\n",
       "      <td>191.866667</td>\n",
       "      <td>101.266667</td>\n",
       "    </tr>\n",
       "    <tr>\n",
       "      <th>...</th>\n",
       "      <td>...</td>\n",
       "      <td>...</td>\n",
       "      <td>...</td>\n",
       "    </tr>\n",
       "    <tr>\n",
       "      <th>720575940639813365</th>\n",
       "      <td></td>\n",
       "      <td>0.066667</td>\n",
       "      <td>NaN</td>\n",
       "    </tr>\n",
       "    <tr>\n",
       "      <th>720575940643551392</th>\n",
       "      <td></td>\n",
       "      <td>0.733333</td>\n",
       "      <td>NaN</td>\n",
       "    </tr>\n",
       "    <tr>\n",
       "      <th>720575940644666148</th>\n",
       "      <td></td>\n",
       "      <td>1.133333</td>\n",
       "      <td>NaN</td>\n",
       "    </tr>\n",
       "    <tr>\n",
       "      <th>720575940645866292</th>\n",
       "      <td></td>\n",
       "      <td>0.066667</td>\n",
       "      <td>NaN</td>\n",
       "    </tr>\n",
       "    <tr>\n",
       "      <th>720575940647081860</th>\n",
       "      <td></td>\n",
       "      <td>1.133333</td>\n",
       "      <td>NaN</td>\n",
       "    </tr>\n",
       "  </tbody>\n",
       "</table>\n",
       "<p>466 rows × 3 columns</p>\n",
       "</div>"
      ],
      "text/plain": [
       "exp_name                name      sugarR  sugarR_100Hz\n",
       "flyid                                                 \n",
       "720575940622695448            156.766667    114.266667\n",
       "720575940621754367   sugar_8  194.100000    102.566667\n",
       "720575940617937543  sugar_15  199.400000    101.733333\n",
       "720575940629888530            146.500000    101.700000\n",
       "720575940629176663  sugar_20  191.866667    101.266667\n",
       "...                      ...         ...           ...\n",
       "720575940639813365              0.066667           NaN\n",
       "720575940643551392              0.733333           NaN\n",
       "720575940644666148              1.133333           NaN\n",
       "720575940645866292              0.066667           NaN\n",
       "720575940647081860              1.133333           NaN\n",
       "\n",
       "[466 rows x 3 columns]"
      ]
     },
     "execution_count": 8,
     "metadata": {},
     "output_type": "execute_result"
    }
   ],
   "source": [
    "ps = [\n",
    "    './results/example/sugarR.parquet',\n",
    "    './results/example/sugarR_100Hz.parquet',\n",
    "]\n",
    "\n",
    "df_spike = utl.load_exps(ps)\n",
    "df_rate, df_rate_std = utl.get_rate(df_spike, t_run=params['t_run'], n_run=params['n_run'], flyid2name=flyid2name)\n",
    "df_rate.sort_values('sugarR_100Hz', ascending=False, inplace=True)\n",
    "df_rate"
   ]
  },
  {
   "attachments": {},
   "cell_type": "markdown",
   "metadata": {},
   "source": [
    "## Silencing neurons\n",
    "We want to silence the most active neurons individually to see how that changes the activity patterns.\n",
    "We do so by passing the neuron IDs we want to silence as a list `run_exp` via the `neu_slnc` argument.\n",
    "In the following example, we are silencing a single neuron `[ i ]` while exciting the sugar neurons `neu_sugar`. \n",
    "We can then investigate how silencing of each individual neuron affects the firing rate of a given neuron, say, MN9. "
   ]
  },
  {
   "cell_type": "code",
   "execution_count": null,
   "metadata": {},
   "outputs": [],
   "source": [
    "#First, let's check on the MN9 firing rate when no neurons are silenced.\n",
    "id_mn9 = 720575940660219265 #id for MN9\n",
    "df_rate.loc[id_mn9, \"sugarR_100Hz\"]"
   ]
  },
  {
   "cell_type": "code",
   "execution_count": 9,
   "metadata": {},
   "outputs": [
    {
     "name": "stdout",
     "output_type": "stream",
     "text": [
      ">>> Skipping experiment sugarR-720575940622695448 because results\\example\\sugarR-720575940622695448.parquet exists and force_overwrite = False\n",
      ">>> Skipping experiment sugarR-720575940621754367 because results\\example\\sugarR-720575940621754367.parquet exists and force_overwrite = False\n",
      ">>> Skipping experiment sugarR-720575940617937543 because results\\example\\sugarR-720575940617937543.parquet exists and force_overwrite = False\n"
     ]
    }
   ],
   "source": [
    "# IDs of 3 most active neurons. These neurons are all sugar-sensing neurons.\n",
    "ids = df_rate.sort_values('sugarR_100Hz', ascending=False).index[:3]\n",
    "\n",
    "for i in ids:\n",
    "    run_exp(exp_name='sugarR-{}'.format(i), neu_exc=neu_sugar, neu_slnc=[ i ], params=params, **config)"
   ]
  },
  {
   "cell_type": "code",
   "execution_count": 10,
   "metadata": {},
   "outputs": [
    {
     "data": {
      "text/plain": [
       "exp_name\n",
       "sugarR-720575940617937543    63.266667\n",
       "sugarR-720575940621754367    66.900000\n",
       "sugarR-720575940622695448    71.166667\n",
       "Name: 720575940660219265, dtype: float64"
      ]
     },
     "execution_count": 10,
     "metadata": {},
     "output_type": "execute_result"
    }
   ],
   "source": [
    "# output files\n",
    "ps = [ './results/example/sugarR-{}.parquet'.format(i) for i in ids ]\n",
    "\n",
    "# calculate spike rate and sort\n",
    "df_spike = utl.load_exps(ps)\n",
    "df_rate, df_rate_std = utl.get_rate(df_spike, t_run=params['t_run'], n_run=params['n_run'])\n",
    "df_rate.loc[id_mn9, :].sort_values(ascending=True)"
   ]
  }
 ],
 "metadata": {
  "kernelspec": {
   "display_name": "brian2",
   "language": "python",
   "name": "python3"
  },
  "language_info": {
   "codemirror_mode": {
    "name": "ipython",
    "version": 3
   },
   "file_extension": ".py",
   "mimetype": "text/x-python",
   "name": "python",
   "nbconvert_exporter": "python",
   "pygments_lexer": "ipython3",
   "version": "3.10.11"
  },
  "orig_nbformat": 4
 },
 "nbformat": 4,
 "nbformat_minor": 2
}
